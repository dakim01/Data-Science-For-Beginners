{
  "nbformat": 4,
  "nbformat_minor": 0,
  "metadata": {
    "colab": {
      "provenance": [],
      "authorship_tag": "ABX9TyOPJYh+9bJuktSqOVvK9dv7",
      "include_colab_link": true
    },
    "kernelspec": {
      "name": "python3",
      "display_name": "Python 3"
    },
    "language_info": {
      "name": "python"
    }
  },
  "cells": [
    {
      "cell_type": "markdown",
      "metadata": {
        "id": "view-in-github",
        "colab_type": "text"
      },
      "source": [
        "<a href=\"https://colab.research.google.com/github/dakim01/Data-Science-For-Beginners/blob/main/GitHub_TrustPilot.ipynb\" target=\"_parent\"><img src=\"https://colab.research.google.com/assets/colab-badge.svg\" alt=\"Open In Colab\"/></a>"
      ]
    },
    {
      "cell_type": "code",
      "execution_count": 9,
      "metadata": {
        "id": "ZOtGOm1MJaAb"
      },
      "outputs": [],
      "source": [
        "from bs4 import BeautifulSoup\n",
        "import requests\n",
        "import pandas as pd\n",
        "import datetime as dt"
      ]
    },
    {
      "cell_type": "code",
      "source": [
        "# Initialize lists\n",
        "review_titles = []\n",
        "review_dates_original = []\n",
        "review_dates = []\n",
        "review_ratings = []\n",
        "review_texts = []\n",
        "page_number = []"
      ],
      "metadata": {
        "id": "BLbe_dv4Jpf5"
      },
      "execution_count": 10,
      "outputs": []
    },
    {
      "cell_type": "code",
      "source": [
        "# Set Trustpilot page numbers to scrape here\n",
        "from_page = 1\n",
        "to_page = 48"
      ],
      "metadata": {
        "id": "3YU2PA7PJwHn"
      },
      "execution_count": 11,
      "outputs": []
    },
    {
      "cell_type": "code",
      "source": [
        "for i in range(from_page, to_page + 1):\n",
        "    response = requests.get(f\"https://www.trustpilot.com/review/tiktok.com?page={i}\")\n",
        "    web_page = response.text\n",
        "    soup = BeautifulSoup(web_page, \"html.parser\")\n",
        "\n",
        "    for review in soup.find_all(class_ = \"link_internal__7XN06 typography_appearance-default__AAY17 typography_color-inherit__TlgPO link_link__IZzHN link_notUnderlined__szqki\"):\n",
        "        # Review titles\n",
        "        review_title = review.find(class_ = \"typography_heading-s__f7029 typography_appearance-default__AAY17\")\n",
        "        review_titles.append(review_title.getText())\n",
        "        # Review dates\n",
        "        '''review_date_original = review.select_one(selector=\"time\")\n",
        "        print(review_date_original)\n",
        "        review_dates_original.append(review_date_original.get('dateTime'))\n",
        "\n",
        "        # Convert review date texts into Python datetime objects\n",
        "        review_date = review.select_one(selector=\"time\").getText().replace(\"Updated \", \"\")\n",
        "        if \"hours ago\" in review_date.lower() or \"hour ago\" in review_date.lower():\n",
        "            review_date = dt.datetime.now().date()\n",
        "        elif \"a day ago\" in review_date.lower():\n",
        "            review_date = dt.datetime.now().date() - dt.timedelta(days=1)\n",
        "        elif \"days ago\" in review_date.lower():\n",
        "            review_date = dt.datetime.now().date() - dt.timedelta(days=int(review_date[0]))\n",
        "        else:\n",
        "            review_date = dt.datetime.strptime(review_date, \"%b %d, %Y\").date()\n",
        "        review_dates.append(review_date)'''\n",
        "\n",
        "         # Review ratings\n",
        "        # review_rating = review.find(class_ = \"star-rating_starRating__4rrcf star-rating_medium__iN6Ty\").findChild()\n",
        "        review_rating = review.find(class_ = \"typography_body-l__KUYFJ typography_appearance-subtle__8_H2l\").get_text()\n",
        "        # review_ratings.append(review_rating[\"alt\"])\n",
        "        review_ratings.append(review_rating)\n",
        "\n",
        "        # When there is no review text, append \"\" instead of skipping so that data remains in sequence with other review data e.g. review_title\n",
        "        review_text = review.find(class_ = \"typography_body-l__KUYFJ typography_appearance-default__AAY17 typography_color-black__5LYEn\")\n",
        "        if review_text == None:\n",
        "            review_texts.append(\"\")\n",
        "        else:\n",
        "            review_texts.append(review_text.getText())\n",
        "            # Trustpilot page number\n",
        "        page_number.append(i)\n"
      ],
      "metadata": {
        "id": "0Zmb4xi4KOGG",
        "colab": {
          "base_uri": "https://localhost:8080/",
          "height": 245
        },
        "outputId": "fc6fa846-fe59-438d-aa7b-14fc684df593"
      },
      "execution_count": 20,
      "outputs": [
        {
          "output_type": "error",
          "ename": "AttributeError",
          "evalue": "ignored",
          "traceback": [
            "\u001b[0;31m---------------------------------------------------------------------------\u001b[0m",
            "\u001b[0;31mAttributeError\u001b[0m                            Traceback (most recent call last)",
            "\u001b[0;32m<ipython-input-20-45cb531ede33>\u001b[0m in \u001b[0;36m<cell line: 1>\u001b[0;34m()\u001b[0m\n\u001b[1;32m     27\u001b[0m          \u001b[0;31m# Review ratings\u001b[0m\u001b[0;34m\u001b[0m\u001b[0;34m\u001b[0m\u001b[0m\n\u001b[1;32m     28\u001b[0m         \u001b[0;31m# review_rating = review.find(class_ = \"star-rating_starRating__4rrcf star-rating_medium__iN6Ty\").findChild()\u001b[0m\u001b[0;34m\u001b[0m\u001b[0;34m\u001b[0m\u001b[0m\n\u001b[0;32m---> 29\u001b[0;31m         \u001b[0mreview_rating\u001b[0m \u001b[0;34m=\u001b[0m \u001b[0mreview\u001b[0m\u001b[0;34m.\u001b[0m\u001b[0mfind\u001b[0m\u001b[0;34m(\u001b[0m\u001b[0mclass_\u001b[0m \u001b[0;34m=\u001b[0m \u001b[0;34m\"typography_body-l__KUYFJ typography_appearance-subtle__8_H2l\"\u001b[0m\u001b[0;34m)\u001b[0m\u001b[0;34m.\u001b[0m\u001b[0mget_text\u001b[0m\u001b[0;34m(\u001b[0m\u001b[0;34m)\u001b[0m\u001b[0;34m\u001b[0m\u001b[0;34m\u001b[0m\u001b[0m\n\u001b[0m\u001b[1;32m     30\u001b[0m         \u001b[0;31m# review_ratings.append(review_rating[\"alt\"])\u001b[0m\u001b[0;34m\u001b[0m\u001b[0;34m\u001b[0m\u001b[0m\n\u001b[1;32m     31\u001b[0m         \u001b[0mreview_ratings\u001b[0m\u001b[0;34m.\u001b[0m\u001b[0mappend\u001b[0m\u001b[0;34m(\u001b[0m\u001b[0mreview_rating\u001b[0m\u001b[0;34m)\u001b[0m\u001b[0;34m\u001b[0m\u001b[0;34m\u001b[0m\u001b[0m\n",
            "\u001b[0;31mAttributeError\u001b[0m: 'NoneType' object has no attribute 'get_text'"
          ]
        }
      ]
    },
    {
      "cell_type": "code",
      "source": [
        "# Create final dataframe from lists\n",
        "df_reviews = pd.DataFrame(list(zip(review_titles, review_dates_original, review_dates, review_ratings, review_texts, page_number)),\n",
        "                columns =['review_title', 'review_date_original', 'review_date', 'review_rating', 'review_text', 'page_number'])\n",
        "print(review_texts)"
      ],
      "metadata": {
        "id": "7p3rLAQvQbJI",
        "colab": {
          "base_uri": "https://localhost:8080/"
        },
        "outputId": "bdcc089b-bab1-49f1-c002-cf6e9f2afde4"
      },
      "execution_count": 13,
      "outputs": [
        {
          "output_type": "stream",
          "name": "stdout",
          "text": [
            "[]\n"
          ]
        }
      ]
    },
    {
      "cell_type": "code",
      "source": [],
      "metadata": {
        "id": "wij2w6OGf6bL"
      },
      "execution_count": null,
      "outputs": []
    }
  ]
}